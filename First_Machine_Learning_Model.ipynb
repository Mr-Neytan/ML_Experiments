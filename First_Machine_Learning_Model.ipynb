{
  "nbformat": 4,
  "nbformat_minor": 0,
  "metadata": {
    "colab": {
      "provenance": [],
      "authorship_tag": "ABX9TyOG0yq2+qsOMHvkGuTIO2dj",
      "include_colab_link": true
    },
    "kernelspec": {
      "name": "python3",
      "display_name": "Python 3"
    },
    "language_info": {
      "name": "python"
    }
  },
  "cells": [
    {
      "cell_type": "markdown",
      "metadata": {
        "id": "view-in-github",
        "colab_type": "text"
      },
      "source": [
        "<a href=\"https://colab.research.google.com/github/Mr-Neytan/ML_Experiments/blob/main/First_Machine_Learning_Model.ipynb\" target=\"_parent\"><img src=\"https://colab.research.google.com/assets/colab-badge.svg\" alt=\"Open In Colab\"/></a>"
      ]
    },
    {
      "cell_type": "markdown",
      "source": [
        "Import dependencies"
      ],
      "metadata": {
        "id": "4T4A6wCECKze"
      }
    },
    {
      "cell_type": "code",
      "source": [
        "from sklearn.tree import DecisionTreeRegressor\n",
        "import pandas as pd\n",
        "from sklearn.metrics import mean_absolute_error\n"
      ],
      "metadata": {
        "id": "zuWsLVNtAJQd"
      },
      "execution_count": 34,
      "outputs": []
    },
    {
      "cell_type": "markdown",
      "source": [
        "Set path to sample datasets"
      ],
      "metadata": {
        "id": "0KFDdA85EH3V"
      }
    },
    {
      "cell_type": "code",
      "source": [
        "file_path_train = \"/content/sample_data/california_housing_train.csv\"\n",
        "file_path_test = \"/content/sample_data/california_housing_test.csv\""
      ],
      "metadata": {
        "id": "4IHQOqTsAMec"
      },
      "execution_count": 9,
      "outputs": []
    },
    {
      "cell_type": "markdown",
      "source": [
        "Open the files with pandas. Check contents"
      ],
      "metadata": {
        "id": "SbjTkOIzFkS-"
      }
    },
    {
      "cell_type": "code",
      "source": [
        "cal_train = pd.read_csv(file_path_train)\n",
        "cal_test = pd.read_csv(file_path_test)\n",
        "cal_train.columns"
      ],
      "metadata": {
        "colab": {
          "base_uri": "https://localhost:8080/"
        },
        "id": "ibGIXMbTFmuO",
        "outputId": "0b984937-6a30-46a2-ecdd-16500cbfdd48"
      },
      "execution_count": 14,
      "outputs": [
        {
          "output_type": "execute_result",
          "data": {
            "text/plain": [
              "Index(['longitude', 'latitude', 'housing_median_age', 'total_rooms',\n",
              "       'total_bedrooms', 'population', 'households', 'median_income',\n",
              "       'median_house_value'],\n",
              "      dtype='object')"
            ]
          },
          "metadata": {},
          "execution_count": 14
        }
      ]
    },
    {
      "cell_type": "markdown",
      "source": [
        "Set predictive features and prediction target"
      ],
      "metadata": {
        "id": "ycpsQbBJG8Ie"
      }
    },
    {
      "cell_type": "code",
      "source": [
        "features = ['housing_median_age', 'total_rooms', 'total_bedrooms', 'population', 'households', 'median_income']\n",
        "X = cal_train[features]\n",
        "X_test = cal_test[features]\n",
        "y = cal_train.median_house_value\n",
        "y_test= cal_test.median_house_value\n",
        "print(X.head())\n",
        "print(y.head())"
      ],
      "metadata": {
        "colab": {
          "base_uri": "https://localhost:8080/"
        },
        "id": "s5BOtd2_G7ZQ",
        "outputId": "edbd4e08-658a-446f-9259-71116bcbd7b0"
      },
      "execution_count": 21,
      "outputs": [
        {
          "output_type": "stream",
          "name": "stdout",
          "text": [
            "   housing_median_age  total_rooms  total_bedrooms  population  households  \\\n",
            "0                15.0       5612.0          1283.0      1015.0       472.0   \n",
            "1                19.0       7650.0          1901.0      1129.0       463.0   \n",
            "2                17.0        720.0           174.0       333.0       117.0   \n",
            "3                14.0       1501.0           337.0       515.0       226.0   \n",
            "4                20.0       1454.0           326.0       624.0       262.0   \n",
            "\n",
            "   median_income  \n",
            "0         1.4936  \n",
            "1         1.8200  \n",
            "2         1.6509  \n",
            "3         3.1917  \n",
            "4         1.9250  \n",
            "0    66900.0\n",
            "1    80100.0\n",
            "2    85700.0\n",
            "3    73400.0\n",
            "4    65500.0\n",
            "Name: median_house_value, dtype: float64\n"
          ]
        }
      ]
    },
    {
      "cell_type": "markdown",
      "source": [
        "Specify and Fit Model"
      ],
      "metadata": {
        "id": "nc0xaIY2J0IP"
      }
    },
    {
      "cell_type": "code",
      "source": [
        "cal_model = DecisionTreeRegressor(random_state=1)\n",
        "cal_model.fit(X,y)"
      ],
      "metadata": {
        "colab": {
          "base_uri": "https://localhost:8080/",
          "height": 51
        },
        "id": "UOyWypKhJzf4",
        "outputId": "61bd0fa6-afe4-40cc-f92b-a6008e07612f"
      },
      "execution_count": 17,
      "outputs": [
        {
          "output_type": "execute_result",
          "data": {
            "text/plain": [
              "DecisionTreeRegressor(random_state=1)"
            ],
            "text/html": [
              "<style>#sk-container-id-1 {color: black;background-color: white;}#sk-container-id-1 pre{padding: 0;}#sk-container-id-1 div.sk-toggleable {background-color: white;}#sk-container-id-1 label.sk-toggleable__label {cursor: pointer;display: block;width: 100%;margin-bottom: 0;padding: 0.3em;box-sizing: border-box;text-align: center;}#sk-container-id-1 label.sk-toggleable__label-arrow:before {content: \"▸\";float: left;margin-right: 0.25em;color: #696969;}#sk-container-id-1 label.sk-toggleable__label-arrow:hover:before {color: black;}#sk-container-id-1 div.sk-estimator:hover label.sk-toggleable__label-arrow:before {color: black;}#sk-container-id-1 div.sk-toggleable__content {max-height: 0;max-width: 0;overflow: hidden;text-align: left;background-color: #f0f8ff;}#sk-container-id-1 div.sk-toggleable__content pre {margin: 0.2em;color: black;border-radius: 0.25em;background-color: #f0f8ff;}#sk-container-id-1 input.sk-toggleable__control:checked~div.sk-toggleable__content {max-height: 200px;max-width: 100%;overflow: auto;}#sk-container-id-1 input.sk-toggleable__control:checked~label.sk-toggleable__label-arrow:before {content: \"▾\";}#sk-container-id-1 div.sk-estimator input.sk-toggleable__control:checked~label.sk-toggleable__label {background-color: #d4ebff;}#sk-container-id-1 div.sk-label input.sk-toggleable__control:checked~label.sk-toggleable__label {background-color: #d4ebff;}#sk-container-id-1 input.sk-hidden--visually {border: 0;clip: rect(1px 1px 1px 1px);clip: rect(1px, 1px, 1px, 1px);height: 1px;margin: -1px;overflow: hidden;padding: 0;position: absolute;width: 1px;}#sk-container-id-1 div.sk-estimator {font-family: monospace;background-color: #f0f8ff;border: 1px dotted black;border-radius: 0.25em;box-sizing: border-box;margin-bottom: 0.5em;}#sk-container-id-1 div.sk-estimator:hover {background-color: #d4ebff;}#sk-container-id-1 div.sk-parallel-item::after {content: \"\";width: 100%;border-bottom: 1px solid gray;flex-grow: 1;}#sk-container-id-1 div.sk-label:hover label.sk-toggleable__label {background-color: #d4ebff;}#sk-container-id-1 div.sk-serial::before {content: \"\";position: absolute;border-left: 1px solid gray;box-sizing: border-box;top: 0;bottom: 0;left: 50%;z-index: 0;}#sk-container-id-1 div.sk-serial {display: flex;flex-direction: column;align-items: center;background-color: white;padding-right: 0.2em;padding-left: 0.2em;position: relative;}#sk-container-id-1 div.sk-item {position: relative;z-index: 1;}#sk-container-id-1 div.sk-parallel {display: flex;align-items: stretch;justify-content: center;background-color: white;position: relative;}#sk-container-id-1 div.sk-item::before, #sk-container-id-1 div.sk-parallel-item::before {content: \"\";position: absolute;border-left: 1px solid gray;box-sizing: border-box;top: 0;bottom: 0;left: 50%;z-index: -1;}#sk-container-id-1 div.sk-parallel-item {display: flex;flex-direction: column;z-index: 1;position: relative;background-color: white;}#sk-container-id-1 div.sk-parallel-item:first-child::after {align-self: flex-end;width: 50%;}#sk-container-id-1 div.sk-parallel-item:last-child::after {align-self: flex-start;width: 50%;}#sk-container-id-1 div.sk-parallel-item:only-child::after {width: 0;}#sk-container-id-1 div.sk-dashed-wrapped {border: 1px dashed gray;margin: 0 0.4em 0.5em 0.4em;box-sizing: border-box;padding-bottom: 0.4em;background-color: white;}#sk-container-id-1 div.sk-label label {font-family: monospace;font-weight: bold;display: inline-block;line-height: 1.2em;}#sk-container-id-1 div.sk-label-container {text-align: center;}#sk-container-id-1 div.sk-container {/* jupyter's `normalize.less` sets `[hidden] { display: none; }` but bootstrap.min.css set `[hidden] { display: none !important; }` so we also need the `!important` here to be able to override the default hidden behavior on the sphinx rendered scikit-learn.org. See: https://github.com/scikit-learn/scikit-learn/issues/21755 */display: inline-block !important;position: relative;}#sk-container-id-1 div.sk-text-repr-fallback {display: none;}</style><div id=\"sk-container-id-1\" class=\"sk-top-container\"><div class=\"sk-text-repr-fallback\"><pre>DecisionTreeRegressor(random_state=1)</pre><b>In a Jupyter environment, please rerun this cell to show the HTML representation or trust the notebook. <br />On GitHub, the HTML representation is unable to render, please try loading this page with nbviewer.org.</b></div><div class=\"sk-container\" hidden><div class=\"sk-item\"><div class=\"sk-estimator sk-toggleable\"><input class=\"sk-toggleable__control sk-hidden--visually\" id=\"sk-estimator-id-1\" type=\"checkbox\" checked><label for=\"sk-estimator-id-1\" class=\"sk-toggleable__label sk-toggleable__label-arrow\">DecisionTreeRegressor</label><div class=\"sk-toggleable__content\"><pre>DecisionTreeRegressor(random_state=1)</pre></div></div></div></div></div>"
            ]
          },
          "metadata": {},
          "execution_count": 17
        }
      ]
    },
    {
      "cell_type": "markdown",
      "source": [
        "Make Predictions"
      ],
      "metadata": {
        "id": "llb79ecDLEnZ"
      }
    },
    {
      "cell_type": "code",
      "source": [
        "predictions = cal_model.predict(X_test)\n",
        "predict = predictions[0:5]\n",
        "ans = list(y_test.head(5))\n",
        "print(predict)\n",
        "print(ans)"
      ],
      "metadata": {
        "colab": {
          "base_uri": "https://localhost:8080/"
        },
        "id": "shB7I_TNLGk5",
        "outputId": "e1282372-10f7-4f4e-b558-924119a72622"
      },
      "execution_count": 31,
      "outputs": [
        {
          "output_type": "stream",
          "name": "stdout",
          "text": [
            "[320700. 109500. 307100. 205400. 106900.]\n",
            "[344700.0, 176500.0, 270500.0, 330000.0, 81700.0]\n"
          ]
        }
      ]
    },
    {
      "cell_type": "markdown",
      "source": [
        "Get difference between prediction and actual value"
      ],
      "metadata": {
        "id": "260R7JFmMXMo"
      }
    },
    {
      "cell_type": "code",
      "source": [
        "for x in range(len(ans)):\n",
        "  print(f\"{ans[x]-predict[x]}\")"
      ],
      "metadata": {
        "colab": {
          "base_uri": "https://localhost:8080/"
        },
        "id": "lsCZ1lPFMW9x",
        "outputId": "878c3b68-cb5d-4d50-ee65-e05d1618dd0f"
      },
      "execution_count": 32,
      "outputs": [
        {
          "output_type": "stream",
          "name": "stdout",
          "text": [
            "24000.0\n",
            "67000.0\n",
            "-36600.0\n",
            "124600.0\n",
            "-25200.0\n"
          ]
        }
      ]
    },
    {
      "cell_type": "markdown",
      "source": [
        "Use mean absolute error"
      ],
      "metadata": {
        "id": "bmosB4__NYLB"
      }
    },
    {
      "cell_type": "code",
      "source": [
        "mean_absolute_error(y_test, predictions)"
      ],
      "metadata": {
        "colab": {
          "base_uri": "https://localhost:8080/"
        },
        "id": "cim9VMTbNbUq",
        "outputId": "033b06b0-dc41-458f-b985-e6dfc5e6f750"
      },
      "execution_count": 37,
      "outputs": [
        {
          "output_type": "execute_result",
          "data": {
            "text/plain": [
              "68147.24566666667"
            ]
          },
          "metadata": {},
          "execution_count": 37
        }
      ]
    }
  ]
}