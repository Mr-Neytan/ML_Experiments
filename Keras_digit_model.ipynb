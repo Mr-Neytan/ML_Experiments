{
  "nbformat": 4,
  "nbformat_minor": 0,
  "metadata": {
    "colab": {
      "provenance": [],
      "authorship_tag": "ABX9TyNTFIsBh1H5UHkyX9lt4hxR",
      "include_colab_link": true
    },
    "kernelspec": {
      "name": "python3",
      "display_name": "Python 3"
    },
    "language_info": {
      "name": "python"
    }
  },
  "cells": [
    {
      "cell_type": "markdown",
      "metadata": {
        "id": "view-in-github",
        "colab_type": "text"
      },
      "source": [
        "<a href=\"https://colab.research.google.com/github/Mr-Neytan/ML_Experiments/blob/main/Keras_digit_model.ipynb\" target=\"_parent\"><img src=\"https://colab.research.google.com/assets/colab-badge.svg\" alt=\"Open In Colab\"/></a>"
      ]
    },
    {
      "cell_type": "code",
      "execution_count": 35,
      "metadata": {
        "id": "7KP90j244Omw"
      },
      "outputs": [],
      "source": [
        "import tensorflow as tf\n",
        "from tensorflow import keras\n",
        "from keras import Sequential\n",
        "import numpy as np"
      ]
    },
    {
      "cell_type": "code",
      "source": [
        "num_data = tf.keras.datasets.mnist.load_data(path=\"mnist.npz\")\n",
        "(x_train, y_train), (x_test, y_test) = num_data"
      ],
      "metadata": {
        "id": "BQA8K8YR5Ej7"
      },
      "execution_count": 6,
      "outputs": []
    },
    {
      "cell_type": "code",
      "source": [
        "assert x_train.shape == (60000, 28, 28)\n",
        "assert x_test.shape == (10000, 28, 28)\n",
        "assert y_train.shape == (60000,)\n",
        "assert y_test.shape == (10000,)"
      ],
      "metadata": {
        "id": "XFSr0vzO58PC"
      },
      "execution_count": 10,
      "outputs": []
    },
    {
      "cell_type": "code",
      "source": [
        "model = tf.keras.models.Sequential()\n",
        "model.add(keras.layers.Flatten(input_shape=(28,28)))\n",
        "model.add(keras.layers.Dense(128, activation = \"relu\"))\n",
        "model.add(keras.layers.Dense(10, activation=\"softmax\"))"
      ],
      "metadata": {
        "id": "nhbOCioy6O3y"
      },
      "execution_count": 15,
      "outputs": []
    },
    {
      "cell_type": "code",
      "source": [
        "model.compile(optimizer='adam', loss='sparse_categorical_crossentropy')"
      ],
      "metadata": {
        "id": "TSmaJH1e8lse"
      },
      "execution_count": 17,
      "outputs": []
    },
    {
      "cell_type": "code",
      "source": [
        "model.fit(x_train, y_train)"
      ],
      "metadata": {
        "colab": {
          "base_uri": "https://localhost:8080/"
        },
        "id": "6DQSvT7D7QvV",
        "outputId": "a40ace81-6ead-4fde-8197-1c442adcc47e"
      },
      "execution_count": 18,
      "outputs": [
        {
          "output_type": "stream",
          "name": "stdout",
          "text": [
            "1875/1875 [==============================] - 7s 3ms/step - loss: 2.7442\n"
          ]
        },
        {
          "output_type": "execute_result",
          "data": {
            "text/plain": [
              "<keras.callbacks.History at 0x78dcac24aaa0>"
            ]
          },
          "metadata": {},
          "execution_count": 18
        }
      ]
    },
    {
      "cell_type": "code",
      "source": [
        "print(model.evaluate(x_test,y_test))"
      ],
      "metadata": {
        "colab": {
          "base_uri": "https://localhost:8080/"
        },
        "id": "Y6jnqVi-847P",
        "outputId": "f72e7036-8de6-4326-ce9a-7e3025b7addf"
      },
      "execution_count": 23,
      "outputs": [
        {
          "output_type": "stream",
          "name": "stdout",
          "text": [
            "313/313 [==============================] - 1s 2ms/step - loss: 0.4966\n",
            "0.4965881407260895\n"
          ]
        }
      ]
    },
    {
      "cell_type": "markdown",
      "source": [
        "Predictions will return an array of possibilities of the input being a certain number. Numpy can be used to get the digit with the highest probability."
      ],
      "metadata": {
        "id": "aG2IFPiCDDM4"
      }
    },
    {
      "cell_type": "code",
      "source": [
        "predictions = model.predict(x_test)\n",
        "class_labels = np.argmax(predictions, axis=-1)\n",
        "print(class_labels[0:5])\n",
        "print(predictions [0:5])"
      ],
      "metadata": {
        "colab": {
          "base_uri": "https://localhost:8080/"
        },
        "id": "oqajyBuGAAs3",
        "outputId": "0711bd7e-b310-40da-b704-e9825b1ceace"
      },
      "execution_count": 36,
      "outputs": [
        {
          "output_type": "stream",
          "name": "stdout",
          "text": [
            "313/313 [==============================] - 1s 2ms/step\n",
            "[7 2 1 0 4]\n",
            "[[7.5603275e-38 0.0000000e+00 1.6356585e-24 2.9403901e-12 0.0000000e+00\n",
            "  3.9504896e-24 1.8238445e-33 9.9999994e-01 0.0000000e+00 2.9565174e-28]\n",
            " [2.1797173e-13 4.5103210e-05 9.9989730e-01 5.7559071e-05 0.0000000e+00\n",
            "  2.5760231e-16 2.6920107e-22 1.1588651e-32 4.1564985e-12 4.6209390e-30]\n",
            " [3.2894220e-15 9.9999994e-01 5.1516795e-14 1.6704779e-10 8.5288813e-17\n",
            "  2.1563003e-12 2.7716305e-15 1.4438925e-10 1.7145220e-16 6.0715471e-19]\n",
            " [9.9997169e-01 4.6609889e-06 2.5323579e-17 1.0760205e-18 3.9830826e-14\n",
            "  2.3164328e-05 1.0949016e-07 7.2637474e-10 1.0131415e-08 3.4121325e-07]\n",
            " [1.2078875e-13 1.0200923e-25 7.0625043e-07 1.7244740e-05 6.8369162e-01\n",
            "  1.9316385e-10 7.2553818e-15 1.5352117e-01 6.9478501e-06 1.6276218e-01]]\n"
          ]
        }
      ]
    },
    {
      "cell_type": "code",
      "source": [
        "print(y_test[0:5])"
      ],
      "metadata": {
        "colab": {
          "base_uri": "https://localhost:8080/"
        },
        "id": "HA7NJKOGBoK2",
        "outputId": "258ede97-d9fd-4249-9939-fe80bbb61e3f"
      },
      "execution_count": 31,
      "outputs": [
        {
          "output_type": "stream",
          "name": "stdout",
          "text": [
            "[7 2 1 0 4]\n"
          ]
        }
      ]
    }
  ]
}